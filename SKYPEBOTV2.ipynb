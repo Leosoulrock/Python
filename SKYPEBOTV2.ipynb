{
 "cells": [
  {
   "cell_type": "code",
   "execution_count": 1,
   "metadata": {},
   "outputs": [
    {
     "name": "stdout",
     "output_type": "stream",
     "text": [
      "Point(x=669, y=828)\n",
      "Point(x=247, y=240)\n",
      "Point(x=556, y=815)\n",
      "Point(x=556, y=815)\n",
      "Point(x=556, y=815)\n",
      "Point(x=556, y=815)\n",
      "Point(x=556, y=815)\n",
      "Point(x=599, y=875)\n"
     ]
    },
    {
     "ename": "KeyboardInterrupt",
     "evalue": "",
     "output_type": "error",
     "traceback": [
      "\u001b[1;31m---------------------------------------------------------------------------\u001b[0m",
      "\u001b[1;31mKeyboardInterrupt\u001b[0m                         Traceback (most recent call last)",
      "\u001b[1;32m<ipython-input-1-21385fa0a541>\u001b[0m in \u001b[0;36m<module>\u001b[1;34m\u001b[0m\n\u001b[0;32m     17\u001b[0m     \u001b[0mtime\u001b[0m\u001b[1;33m.\u001b[0m\u001b[0msleep\u001b[0m\u001b[1;33m(\u001b[0m\u001b[1;36m10\u001b[0m\u001b[1;33m)\u001b[0m\u001b[1;33m\u001b[0m\u001b[1;33m\u001b[0m\u001b[0m\n\u001b[0;32m     18\u001b[0m     \u001b[0mprint\u001b[0m\u001b[1;33m(\u001b[0m\u001b[0mpyautogui\u001b[0m\u001b[1;33m.\u001b[0m\u001b[0mposition\u001b[0m\u001b[1;33m(\u001b[0m\u001b[1;33m)\u001b[0m\u001b[1;33m)\u001b[0m\u001b[1;33m\u001b[0m\u001b[1;33m\u001b[0m\u001b[0m\n\u001b[1;32m---> 19\u001b[1;33m     \u001b[0mtime\u001b[0m\u001b[1;33m.\u001b[0m\u001b[0msleep\u001b[0m\u001b[1;33m(\u001b[0m\u001b[1;36m10\u001b[0m\u001b[1;33m)\u001b[0m\u001b[1;33m\u001b[0m\u001b[1;33m\u001b[0m\u001b[0m\n\u001b[0m\u001b[0;32m     20\u001b[0m     \u001b[0mpyautogui\u001b[0m\u001b[1;33m.\u001b[0m\u001b[0mmoveTo\u001b[0m\u001b[1;33m(\u001b[0m\u001b[1;36m154\u001b[0m\u001b[1;33m,\u001b[0m\u001b[1;36m347\u001b[0m\u001b[1;33m,\u001b[0m\u001b[1;36m0.8\u001b[0m\u001b[1;33m)\u001b[0m\u001b[1;33m\u001b[0m\u001b[1;33m\u001b[0m\u001b[0m\n\u001b[0;32m     21\u001b[0m     \u001b[0mpyautogui\u001b[0m\u001b[1;33m.\u001b[0m\u001b[0mclick\u001b[0m\u001b[1;33m(\u001b[0m\u001b[1;33m)\u001b[0m\u001b[1;33m\u001b[0m\u001b[1;33m\u001b[0m\u001b[0m\n",
      "\u001b[1;31mKeyboardInterrupt\u001b[0m: "
     ]
    }
   ],
   "source": [
    "import pyautogui,time\n",
    "import turtle as t\n",
    "\n",
    "def msg():\n",
    "    o = open(\"msgskype.txt\" , 'r')\n",
    "    for word in o:\n",
    "            pyautogui.typewrite(word)\n",
    "            pyautogui.press(\"enter\")\n",
    "\n",
    "currentMouseX, currentMouseY = pyautogui.position()\n",
    "\n",
    "time.sleep(1)\n",
    "print(pyautogui.position())\n",
    "       \n",
    "        \n",
    "while(1):\n",
    "    time.sleep(10)\n",
    "    print(pyautogui.position()) \n",
    "    time.sleep(10)\n",
    "    pyautogui.moveTo(154,347,0.8)\n",
    "    pyautogui.click()\n",
    "    pyautogui.moveTo(556,815,0.8)\n",
    "    time.sleep(1)\n",
    "    pyautogui.click()\n",
    "    time.sleep(1)\n",
    "    msg()\n",
    "    pyautogui.moveTo(154,393,0.8)\n",
    "    pyautogui.click()\n",
    "    pyautogui.moveTo(556,815,0.8)\n",
    "    time.sleep(1)\n",
    "    pyautogui.click()\n",
    "    time.sleep(1)\n",
    "    msg()\n",
    "    pyautogui.moveTo(154,447,0.8)\n",
    "    pyautogui.click()\n",
    "    pyautogui.moveTo(556,815,0.8)\n",
    "    time.sleep(1)\n",
    "    pyautogui.click()\n",
    "    time.sleep(1)\n",
    "    msg()\n",
    "    pyautogui.moveTo(154,504,0.8)\n",
    "    pyautogui.click()\n",
    "    pyautogui.moveTo(556,815,0.8)\n",
    "    time.sleep(1)\n",
    "    pyautogui.click()\n",
    "    time.sleep(1)\n",
    "    msg()\n",
    "    pyautogui.moveTo(154,555,0.8)\n",
    "    pyautogui.click()\n",
    "    pyautogui.moveTo(556,815,0.8)\n",
    "    time.sleep(1)\n",
    "    pyautogui.click()\n",
    "    time.sleep(1)\n",
    "    msg()\n",
    "    pyautogui.moveTo(154,615,0.8)\n",
    "    pyautogui.click()\n",
    "    pyautogui.moveTo(556,815,0.8)\n",
    "    time.sleep(1)\n",
    "    pyautogui.click()\n",
    "    time.sleep(1)\n",
    "    msg()\n",
    "    pyautogui.moveTo(154,671,0.8)\n",
    "    pyautogui.click()\n",
    "    pyautogui.moveTo(556,815,0.8)\n",
    "    time.sleep(1)\n",
    "    pyautogui.click()\n",
    "    time.sleep(1)\n",
    "    msg()\n",
    "    pyautogui.moveTo(154,726,0.8)\n",
    "    pyautogui.click()\n",
    "    pyautogui.moveTo(556,815,0.8)\n",
    "    time.sleep(1)\n",
    "    pyautogui.click()\n",
    "    time.sleep(1)\n",
    "    msg()\n",
    "    pyautogui.moveTo(154,792,0.8)\n",
    "    pyautogui.click()\n",
    "    pyautogui.moveTo(556,815,0.8)\n",
    "    time.sleep(1)\n",
    "    pyautogui.click()\n",
    "    time.sleep(1)\n",
    "    msg()\n",
    "    time.sleep(1)\n",
    "    pyautogui.moveTo(154,815,0.8)\n",
    "    pyautogui.hscroll(-650) \n",
    "    pyautogui.moveTo(154,305,0.8)\n",
    "    pyautogui.click()\n",
    "    pyautogui.moveTo(556,815,0.8)\n",
    "    msg()\n",
    "\n"
   ]
  },
  {
   "cell_type": "code",
   "execution_count": null,
   "metadata": {},
   "outputs": [],
   "source": []
  },
  {
   "cell_type": "raw",
   "metadata": {},
   "source": [
    "\n",
    "\n"
   ]
  },
  {
   "cell_type": "code",
   "execution_count": null,
   "metadata": {},
   "outputs": [],
   "source": []
  },
  {
   "cell_type": "code",
   "execution_count": null,
   "metadata": {
    "collapsed": true
   },
   "outputs": [],
   "source": []
  },
  {
   "cell_type": "code",
   "execution_count": null,
   "metadata": {},
   "outputs": [],
   "source": []
  }
 ],
 "metadata": {
  "kernelspec": {
   "display_name": "Python 3",
   "language": "python",
   "name": "python3"
  },
  "language_info": {
   "codemirror_mode": {
    "name": "ipython",
    "version": 3
   },
   "file_extension": ".py",
   "mimetype": "text/x-python",
   "name": "python",
   "nbconvert_exporter": "python",
   "pygments_lexer": "ipython3",
   "version": "3.8.3"
  }
 },
 "nbformat": 4,
 "nbformat_minor": 4
}
